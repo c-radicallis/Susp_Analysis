{
 "cells": [
  {
   "cell_type": "code",
   "execution_count": 6,
   "metadata": {},
   "outputs": [],
   "source": [
    "import pandas as pd\n",
    "import numpy as np\n",
    "import scipy as sp\n",
    "import sympy as smp\n",
    "import matplotlib.pyplot as plt"
   ]
  },
  {
   "cell_type": "code",
   "execution_count": 7,
   "metadata": {},
   "outputs": [
    {
     "data": {
      "text/html": [
       "<div>\n",
       "<style scoped>\n",
       "    .dataframe tbody tr th:only-of-type {\n",
       "        vertical-align: middle;\n",
       "    }\n",
       "\n",
       "    .dataframe tbody tr th {\n",
       "        vertical-align: top;\n",
       "    }\n",
       "\n",
       "    .dataframe thead th {\n",
       "        text-align: right;\n",
       "    }\n",
       "</style>\n",
       "<table border=\"1\" class=\"dataframe\">\n",
       "  <thead>\n",
       "    <tr style=\"text-align: right;\">\n",
       "      <th></th>\n",
       "      <th>w_t</th>\n",
       "      <th>LV</th>\n",
       "    </tr>\n",
       "  </thead>\n",
       "  <tbody>\n",
       "    <tr>\n",
       "      <th>0</th>\n",
       "      <td>0.001000</td>\n",
       "      <td>3.000000</td>\n",
       "    </tr>\n",
       "    <tr>\n",
       "      <th>1</th>\n",
       "      <td>2.170418</td>\n",
       "      <td>3.023155</td>\n",
       "    </tr>\n",
       "    <tr>\n",
       "      <th>2</th>\n",
       "      <td>3.183280</td>\n",
       "      <td>3.037627</td>\n",
       "    </tr>\n",
       "    <tr>\n",
       "      <th>3</th>\n",
       "      <td>4.340836</td>\n",
       "      <td>3.049204</td>\n",
       "    </tr>\n",
       "    <tr>\n",
       "      <th>4</th>\n",
       "      <td>6.221865</td>\n",
       "      <td>3.057887</td>\n",
       "    </tr>\n",
       "  </tbody>\n",
       "</table>\n",
       "</div>"
      ],
      "text/plain": [
       "        w_t        LV\n",
       "0  0.001000  3.000000\n",
       "1  2.170418  3.023155\n",
       "2  3.183280  3.037627\n",
       "3  4.340836  3.049204\n",
       "4  6.221865  3.057887"
      ]
     },
     "execution_count": 7,
     "metadata": {},
     "output_type": "execute_result"
    }
   ],
   "source": [
    "df = pd.read_csv(\"coil_position_data.txt\")\n",
    "df.columns=['w_t','LV']\n",
    "df.head()"
   ]
  },
  {
   "cell_type": "code",
   "execution_count": 8,
   "metadata": {},
   "outputs": [],
   "source": [
    "w_t = smp.symbols('w_t', positive=True) # \n",
    "LV_spline = smp.interpolating_spline( 3 , w_t , df['w_t'] , df['LV'])"
   ]
  },
  {
   "cell_type": "code",
   "execution_count": null,
   "metadata": {},
   "outputs": [
    {
     "data": {
      "image/png": "[encoded data removed]",
      "text/plain": [
       "<Figure size 640x480 with 1 Axes>"
      ]
     },
     "metadata": {},
     "output_type": "display_data"
    }
   ],
   "source": [
    "plt.plot(df['w_t'],df['LV'],'.')\n",
    "\n",
    "w_t_step = 0.1 #mm\n",
    "w_t_vector = np.arange(0,max(df['w_t']),w_t_step)\n",
    "LV_vector = smp.lambdify(w_t, LV_spline, \"numpy\")(w_t_vector)\n",
    "plt.plot(w_t_vector,LV_vector)\n",
    "\n",
    "plt.grid()\n",
    "plt.ylim(bottom=2)\n",
    "plt.xlim(left=0)\n",
    "plt.show()"
   ]
  },
  {
   "cell_type": "code",
   "execution_count": null,
   "metadata": {},
   "outputs": [],
   "source": [
    "def LV_func ( wheel_travel ):\n",
    "    return LV_spline.subs( w_t , wheel_travel)"
   ]
  },
  {
   "cell_type": "code",
   "execution_count": null,
   "metadata": {},
   "outputs": [],
   "source": [
    "from scipy.integrate import quad\n",
    "\n",
    "inv_LV = smp.lambdify(w_t, 1/LV_spline, \"numpy\") \n",
    "\n",
    "def s_s_func ( wheel_travel ):\n",
    "    # milimeters\n",
    "    return quad( inv_LV , 0 , wheel_travel )[0]"
   ]
  },
  {
   "cell_type": "code",
   "execution_count": null,
   "metadata": {},
   "outputs": [
    {
     "data": {
      "text/plain": [
       "65.00331397635739"
      ]
     },
     "execution_count": 30,
     "metadata": {},
     "output_type": "execute_result"
    }
   ],
   "source": [
    "s_s_func(170)"
   ]
  },
  {
   "cell_type": "code",
   "execution_count": null,
   "metadata": {},
   "outputs": [],
   "source": []
  },
  {
   "cell_type": "code",
   "execution_count": null,
   "metadata": {},
   "outputs": [],
   "source": [
    "chainstay=440\n",
    "wheel_base=1200\n",
    "rear_split= 1 - chainstay/wheel_base"
   ]
  },
  {
   "cell_type": "code",
   "execution_count": null,
   "metadata": {},
   "outputs": [],
   "source": [
    "#spring\n",
    "k_spring = 70050.734 # N/m = 400 lbs/in\n",
    "\n",
    "# Damper\n",
    "LSC_force_zero_velocity = 0 # N\n",
    "HSC_transition_velocity = 1 # m/s\n",
    "HSC_transition_force = \n",
    "HSC_slope = 100 # N*s/m\n",
    "\n"
   ]
  },
  {
   "cell_type": "code",
   "execution_count": null,
   "metadata": {},
   "outputs": [],
   "source": [
    "def F_spring_func ( wheel_travel ):\n",
    "    #n Newtons\n",
    "    return k_spring * s_s_func(wheel_travel)/1000\n",
    "\n",
    "def F_w_spring_func ( wheel_travel ):\n",
    "    # Newtons\n",
    "    return F_spring_func(wheel_travel) / LV_func(wheel_travel)\n",
    "\n",
    "\n",
    "def F_damper_func ( wheel_travel , wheel_velocity ):\n",
    "    # Travel = milimeter , Velocity = meter/s\n",
    "    shock_velocity = wheel_velocity / LV_func(wheel_travel)\n",
    "    return damper_coef( shock_velocity )*shock_velocity\n",
    "\n",
    "def F_w_damper_func ( wheel_travel , wheel_velocity ):\n",
    "    # Newtons\n",
    "    return F_damper_func( wheel_travel , wheel_velocity) / LV_func(wheel_travel)"
   ]
  },
  {
   "cell_type": "code",
   "execution_count": null,
   "metadata": {},
   "outputs": [
    {
     "data": {
      "text/latex": [
       "$\\displaystyle 2002.85749895292$"
      ],
      "text/plain": [
       "2002.85749895292"
      ]
     },
     "execution_count": 39,
     "metadata": {},
     "output_type": "execute_result"
    }
   ],
   "source": [
    "F_w_func(170)"
   ]
  },
  {
   "cell_type": "code",
   "execution_count": null,
   "metadata": {},
   "outputs": [
    {
     "data": {
      "text/plain": [
       "4553.529856476294"
      ]
     },
     "execution_count": 40,
     "metadata": {},
     "output_type": "execute_result"
    }
   ],
   "source": [
    "F_spring_func(170)"
   ]
  },
  {
   "cell_type": "code",
   "execution_count": null,
   "metadata": {},
   "outputs": [],
   "source": []
  }
 ],
 "metadata": {
  "kernelspec": {
   "display_name": "base",
   "language": "python",
   "name": "python3"
  },
  "language_info": {
   "codemirror_mode": {
    "name": "ipython",
    "version": 3
   },
   "file_extension": ".py",
   "mimetype": "text/x-python",
   "name": "python",
   "nbconvert_exporter": "python",
   "pygments_lexer": "ipython3",
   "version": "3.11.5"
  }
 },
 "nbformat": 4,
 "nbformat_minor": 2
}

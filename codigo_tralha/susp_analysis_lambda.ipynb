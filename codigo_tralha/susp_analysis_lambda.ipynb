{
 "cells": [
  {
   "cell_type": "code",
   "execution_count": 56,
   "metadata": {},
   "outputs": [],
   "source": [
    "import pandas as pd\n",
    "import numpy as np\n",
    "import scipy as sp\n",
    "import sympy as smp\n",
    "import matplotlib.pyplot as plt"
   ]
  },
  {
   "cell_type": "code",
   "execution_count": 57,
   "metadata": {},
   "outputs": [
    {
     "data": {
      "text/html": [
       "<div>\n",
       "<style scoped>\n",
       "    .dataframe tbody tr th:only-of-type {\n",
       "        vertical-align: middle;\n",
       "    }\n",
       "\n",
       "    .dataframe tbody tr th {\n",
       "        vertical-align: top;\n",
       "    }\n",
       "\n",
       "    .dataframe thead th {\n",
       "        text-align: right;\n",
       "    }\n",
       "</style>\n",
       "<table border=\"1\" class=\"dataframe\">\n",
       "  <thead>\n",
       "    <tr style=\"text-align: right;\">\n",
       "      <th></th>\n",
       "      <th>w_t</th>\n",
       "      <th>LV</th>\n",
       "    </tr>\n",
       "  </thead>\n",
       "  <tbody>\n",
       "    <tr>\n",
       "      <th>0</th>\n",
       "      <td>0.000001</td>\n",
       "      <td>3.000000</td>\n",
       "    </tr>\n",
       "    <tr>\n",
       "      <th>1</th>\n",
       "      <td>2.170418</td>\n",
       "      <td>3.023155</td>\n",
       "    </tr>\n",
       "    <tr>\n",
       "      <th>2</th>\n",
       "      <td>3.183280</td>\n",
       "      <td>3.037627</td>\n",
       "    </tr>\n",
       "    <tr>\n",
       "      <th>3</th>\n",
       "      <td>4.340836</td>\n",
       "      <td>3.049204</td>\n",
       "    </tr>\n",
       "    <tr>\n",
       "      <th>4</th>\n",
       "      <td>6.221865</td>\n",
       "      <td>3.057887</td>\n",
       "    </tr>\n",
       "  </tbody>\n",
       "</table>\n",
       "</div>"
      ],
      "text/plain": [
       "        w_t        LV\n",
       "0  0.000001  3.000000\n",
       "1  2.170418  3.023155\n",
       "2  3.183280  3.037627\n",
       "3  4.340836  3.049204\n",
       "4  6.221865  3.057887"
      ]
     },
     "execution_count": 57,
     "metadata": {},
     "output_type": "execute_result"
    }
   ],
   "source": [
    "df = pd.read_csv(\"coil_position_data.txt\")\n",
    "df.columns=['w_t','LV']\n",
    "df.head()"
   ]
  },
  {
   "cell_type": "code",
   "execution_count": 58,
   "metadata": {},
   "outputs": [],
   "source": [
    "w_t = smp.symbols('w_t', positive=True) # \n",
    "LV_spline = smp.interpolating_spline( 3 , w_t , df['w_t'] , df['LV'])"
   ]
  },
  {
   "cell_type": "code",
   "execution_count": 59,
   "metadata": {},
   "outputs": [
    {
     "data": {
      "image/png": "[encoded data removed]",
      "text/plain": [
       "<Figure size 640x480 with 1 Axes>"
      ]
     },
     "metadata": {},
     "output_type": "display_data"
    }
   ],
   "source": [
    "plt.plot(df['w_t'],df['LV'],'.')\n",
    "\n",
    "w_t_step = 0.1 #mm\n",
    "w_t_vector = np.arange(0,max(df['w_t']),w_t_step)\n",
    "LV_vector = smp.lambdify(w_t, LV_spline, \"numpy\")(w_t_vector)\n",
    "plt.plot(w_t_vector,LV_vector)\n",
    "\n",
    "plt.grid()\n",
    "plt.ylim(bottom=2)\n",
    "plt.xlim(left=0)\n",
    "plt.show()"
   ]
  },
  {
   "cell_type": "code",
   "execution_count": 66,
   "metadata": {},
   "outputs": [],
   "source": [
    "LV_func = lambda wheel_travel: LV_spline.subs( w_t , wheel_travel)\n",
    "\n",
    "inv_LV = smp.lambdify(w_t, 1/LV_spline, \"numpy\") \n",
    "\n",
    "from scipy.integrate import quad\n",
    "s_s_func = lambda wheel_travel: quad( inv_LV , 0 , wheel_travel )[0]"
   ]
  },
  {
   "cell_type": "code",
   "execution_count": 72,
   "metadata": {},
   "outputs": [],
   "source": [
    "chainstay=440\n",
    "wheel_base=1200\n",
    "rear_split= 1 - chainstay/wheel_base\n",
    "\n",
    "mass = 80\n",
    "\n",
    "k_spring = 70050.734 # N/m = 400 lbs/in\n",
    "\n",
    "k_bumper = mass*0.01/10e-3  # N/m  G=0.01\n",
    "bumper_height = 15 # milimeter\n",
    "\n",
    "shock_max_stroke = round( s_s_func( max(df['w_t'])) , 0) \n",
    "\n",
    "damper_stiffness = 4500/2.5 # N / m/s     4500N ~ 1000lbf\n"
   ]
  },
  {
   "cell_type": "code",
   "execution_count": 73,
   "metadata": {},
   "outputs": [],
   "source": [
    "F_spring_func = lambda wheel_travel: k_spring * s_s_func(wheel_travel)/1000\n",
    "    #n Newtons\n",
    "\n",
    "\n",
    "F_w_spring_func = lambda wheel_travel: F_spring_func(wheel_travel) / LV_func(wheel_travel)\n",
    "    # Newtons\n",
    "\n",
    "\n",
    "F_bumper_func = lambda wheel_travel: k_bumper*(shock_max_stroke-s_s_func(wheel_travel))/1000 if (s_s_func(wheel_travel) > shock_max_stroke - bumper_height) else 0\n",
    "    # Newtons\n",
    "\n",
    "F_w_bumper_func = lambda wheel_travel: F_bumper_func(wheel_travel) / LV_func(wheel_travel)\n",
    "    # Newtons\n",
    "\n",
    "\n",
    "F_damper_func = lambda wheel_travel , wheel_velocity: damper_stiffness * wheel_velocity / LV_func(wheel_travel)\n",
    "    # Travel = milimeter , Velocity = meter/s\n",
    "    #shock_velocity = wheel_velocity / LV_func(wheel_travel)\n",
    "    \n",
    "F_w_damper_func = lambda wheel_travel , wheel_velocity: F_damper_func( wheel_travel , wheel_velocity) / LV_func(wheel_travel)\n",
    "    # Newtons\n"
   ]
  },
  {
   "cell_type": "code",
   "execution_count": 75,
   "metadata": {},
   "outputs": [
    {
     "ename": "ValueError",
     "evalue": "The truth value of an array with more than one element is ambiguous. Use a.any() or a.all()",
     "output_type": "error",
     "traceback": [
      "\u001b[1;31m---------------------------------------------------------------------------\u001b[0m",
      "\u001b[1;31mValueError\u001b[0m                                Traceback (most recent call last)",
      "Cell \u001b[1;32mIn[75], line 2\u001b[0m\n\u001b[0;32m      1\u001b[0m \u001b[38;5;66;03m# Wheel Spring Force at bottom out\u001b[39;00m\n\u001b[1;32m----> 2\u001b[0m F_w_spring_func(w_t_vector)\n",
      "Cell \u001b[1;32mIn[73], line 5\u001b[0m, in \u001b[0;36m<lambda>\u001b[1;34m(wheel_travel)\u001b[0m\n\u001b[0;32m      1\u001b[0m F_spring_func \u001b[38;5;241m=\u001b[39m \u001b[38;5;28;01mlambda\u001b[39;00m wheel_travel: k_spring \u001b[38;5;241m*\u001b[39m s_s_func(wheel_travel)\u001b[38;5;241m/\u001b[39m\u001b[38;5;241m1000\u001b[39m\n\u001b[0;32m      2\u001b[0m     \u001b[38;5;66;03m#n Newtons\u001b[39;00m\n\u001b[1;32m----> 5\u001b[0m F_w_spring_func \u001b[38;5;241m=\u001b[39m \u001b[38;5;28;01mlambda\u001b[39;00m wheel_travel: F_spring_func(wheel_travel) \u001b[38;5;241m/\u001b[39m LV_func(wheel_travel)\n\u001b[0;32m      6\u001b[0m     \u001b[38;5;66;03m# Newtons\u001b[39;00m\n\u001b[0;32m      9\u001b[0m F_bumper_func \u001b[38;5;241m=\u001b[39m \u001b[38;5;28;01mlambda\u001b[39;00m wheel_travel: k_bumper\u001b[38;5;241m*\u001b[39m(shock_max_stroke\u001b[38;5;241m-\u001b[39ms_s_func(wheel_travel))\u001b[38;5;241m/\u001b[39m\u001b[38;5;241m1000\u001b[39m \u001b[38;5;28;01mif\u001b[39;00m (s_s_func(wheel_travel) \u001b[38;5;241m>\u001b[39m shock_max_stroke \u001b[38;5;241m-\u001b[39m bumper_height) \u001b[38;5;28;01melse\u001b[39;00m \u001b[38;5;241m0\u001b[39m\n",
      "Cell \u001b[1;32mIn[73], line 1\u001b[0m, in \u001b[0;36m<lambda>\u001b[1;34m(wheel_travel)\u001b[0m\n\u001b[1;32m----> 1\u001b[0m F_spring_func \u001b[38;5;241m=\u001b[39m \u001b[38;5;28;01mlambda\u001b[39;00m wheel_travel: k_spring \u001b[38;5;241m*\u001b[39m s_s_func(wheel_travel)\u001b[38;5;241m/\u001b[39m\u001b[38;5;241m1000\u001b[39m\n\u001b[0;32m      2\u001b[0m     \u001b[38;5;66;03m#n Newtons\u001b[39;00m\n\u001b[0;32m      5\u001b[0m F_w_spring_func \u001b[38;5;241m=\u001b[39m \u001b[38;5;28;01mlambda\u001b[39;00m wheel_travel: F_spring_func(wheel_travel) \u001b[38;5;241m/\u001b[39m LV_func(wheel_travel)\n",
      "Cell \u001b[1;32mIn[66], line 6\u001b[0m, in \u001b[0;36m<lambda>\u001b[1;34m(wheel_travel)\u001b[0m\n\u001b[0;32m      3\u001b[0m inv_LV \u001b[38;5;241m=\u001b[39m smp\u001b[38;5;241m.\u001b[39mlambdify(w_t, \u001b[38;5;241m1\u001b[39m\u001b[38;5;241m/\u001b[39mLV_spline, \u001b[38;5;124m\"\u001b[39m\u001b[38;5;124mnumpy\u001b[39m\u001b[38;5;124m\"\u001b[39m) \n\u001b[0;32m      5\u001b[0m \u001b[38;5;28;01mfrom\u001b[39;00m \u001b[38;5;21;01mscipy\u001b[39;00m\u001b[38;5;21;01m.\u001b[39;00m\u001b[38;5;21;01mintegrate\u001b[39;00m \u001b[38;5;28;01mimport\u001b[39;00m quad\n\u001b[1;32m----> 6\u001b[0m s_s_func \u001b[38;5;241m=\u001b[39m \u001b[38;5;28;01mlambda\u001b[39;00m wheel_travel: quad( inv_LV , \u001b[38;5;241m0\u001b[39m , wheel_travel )[\u001b[38;5;241m0\u001b[39m]\n",
      "File \u001b[1;32mc:\\Users\\afons\\miniconda3\\Lib\\site-packages\\scipy\\integrate\\_quadpack_py.py:438\u001b[0m, in \u001b[0;36mquad\u001b[1;34m(func, a, b, args, full_output, epsabs, epsrel, limit, points, weight, wvar, wopts, maxp1, limlst, complex_func)\u001b[0m\n\u001b[0;32m    435\u001b[0m     args \u001b[38;5;241m=\u001b[39m (args,)\n\u001b[0;32m    437\u001b[0m \u001b[38;5;66;03m# check the limits of integration: \\int_a^b, expect a < b\u001b[39;00m\n\u001b[1;32m--> 438\u001b[0m flip, a, b \u001b[38;5;241m=\u001b[39m b \u001b[38;5;241m<\u001b[39m a, \u001b[38;5;28mmin\u001b[39m(a, b), \u001b[38;5;28mmax\u001b[39m(a, b)\n\u001b[0;32m    440\u001b[0m \u001b[38;5;28;01mif\u001b[39;00m complex_func:\n\u001b[0;32m    441\u001b[0m     \u001b[38;5;28;01mdef\u001b[39;00m \u001b[38;5;21mimfunc\u001b[39m(x, \u001b[38;5;241m*\u001b[39margs):\n",
      "\u001b[1;31mValueError\u001b[0m: The truth value of an array with more than one element is ambiguous. Use a.any() or a.all()"
     ]
    }
   ],
   "source": [
    "# Wheel Spring Force at bottom out\n",
    "F_w_spring_func(w_t_vector)"
   ]
  }
 ],
 "metadata": {
  "kernelspec": {
   "display_name": "base",
   "language": "python",
   "name": "python3"
  },
  "language_info": {
   "codemirror_mode": {
    "name": "ipython",
    "version": 3
   },
   "file_extension": ".py",
   "mimetype": "text/x-python",
   "name": "python",
   "nbconvert_exporter": "python",
   "pygments_lexer": "ipython3",
   "version": "3.11.5"
  }
 },
 "nbformat": 4,
 "nbformat_minor": 2
}
